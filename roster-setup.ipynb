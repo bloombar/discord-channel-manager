{
 "cells": [
  {
   "cell_type": "markdown",
   "id": "0dfd1b02",
   "metadata": {},
   "source": [
    "# Setup Student Roster\n",
    "For importing into Google Sheets.\n",
    "\n",
    "Merges data from the Albert roster and Google Form intake questionnaire to produce a consolidated student roster CSV file."
   ]
  },
  {
   "cell_type": "markdown",
   "id": "e3dfb7b3",
   "metadata": {},
   "source": [
    "## Import dependencies\n"
   ]
  },
  {
   "cell_type": "markdown",
   "id": "c640b9cd",
   "metadata": {},
   "source": [
    "Import code dependencies"
   ]
  },
  {
   "cell_type": "code",
   "execution_count": 96,
   "id": "74c833a0",
   "metadata": {},
   "outputs": [],
   "source": [
    "import numpy as np\n",
    "import pandas as pd\n",
    "from pathlib import Path"
   ]
  },
  {
   "cell_type": "markdown",
   "id": "20bb25ad",
   "metadata": {},
   "source": [
    "## Import data"
   ]
  },
  {
   "cell_type": "markdown",
   "id": "fd52736e",
   "metadata": {},
   "source": [
    "Set up filenames of interest."
   ]
  },
  {
   "cell_type": "code",
   "execution_count": 97,
   "id": "c2b4ebf2",
   "metadata": {},
   "outputs": [],
   "source": [
    "course_prefix = 'wd' # all file names will start with this prefix, e.g. 'wd', 'py', 'ad', 'se', etc."
   ]
  },
  {
   "cell_type": "code",
   "execution_count": 98,
   "id": "e62d1948",
   "metadata": {},
   "outputs": [],
   "source": [
    "# all relevant filenames for this course\n",
    "roster_file = f'./rosters/{course_prefix}-roster.csv' # the roster file\n",
    "questionnaire_file = f'./questionnaires/{course_prefix}-intake.csv' # the intake questionnaire file\n",
    "result_file = f'./results/{course_prefix}-result.csv' # the output file we will generate"
   ]
  },
  {
   "cell_type": "markdown",
   "id": "31aa4545",
   "metadata": {},
   "source": [
    "Import the student roster from Albert."
   ]
  },
  {
   "cell_type": "code",
   "execution_count": 99,
   "id": "4ff355d9",
   "metadata": {},
   "outputs": [],
   "source": [
    "roster_df = pd.read_csv(Path(roster_file).resolve())"
   ]
  },
  {
   "cell_type": "markdown",
   "id": "2c59a2a4",
   "metadata": {},
   "source": [
    "Clean up student roster."
   ]
  },
  {
   "cell_type": "code",
   "execution_count": 100,
   "id": "1c97fc95",
   "metadata": {},
   "outputs": [
    {
     "data": {
      "text/plain": [
       "Index(['Counter', 'Campus ID', 'Last', 'First', 'Pronoun', 'Name Recording',\n",
       "       'Email', 'Units Taken', 'Plan Description', 'Academic Level',\n",
       "       'Student Location', 'Status', 'Status Notes'],\n",
       "      dtype='object')"
      ]
     },
     "execution_count": 100,
     "metadata": {},
     "output_type": "execute_result"
    }
   ],
   "source": [
    "# simplify some field names\n",
    "field_prefixes = ['Email', 'First', 'Last'] # prefixes in field names we want to simplify\n",
    "for prefix in field_prefixes:\n",
    "    # rename any field name starting with this prefi to this prefix only\n",
    "    roster_df.rename(columns=lambda x: x if not x.startswith(prefix) else prefix, inplace=True)\n",
    "roster_df.columns"
   ]
  },
  {
   "cell_type": "markdown",
   "id": "42c4d77e",
   "metadata": {},
   "source": [
    "Import the student intake questionnaire results."
   ]
  },
  {
   "cell_type": "code",
   "execution_count": 101,
   "id": "d4c6d381",
   "metadata": {},
   "outputs": [],
   "source": [
    "intake_df = pd.read_csv(Path(questionnaire_file).resolve())"
   ]
  },
  {
   "cell_type": "markdown",
   "id": "01f2bad0",
   "metadata": {},
   "source": [
    "Cleanup intake questionnaire data."
   ]
  },
  {
   "cell_type": "code",
   "execution_count": 102,
   "id": "0006fcc1",
   "metadata": {},
   "outputs": [
    {
     "data": {
      "text/plain": [
       "Index(['Timestamp', 'Email', 'First', 'Discord', 'GitHub',\n",
       "       'What are your motivations in taking this course? (You will not be judged in any way by your answers)',\n",
       "       'What year are you in?',\n",
       "       'Are you familiar with any of the following web programming languages?',\n",
       "       'Have you ever used any of the following web frameworks?',\n",
       "       'Are there any other programming languages you are comfortable with?',\n",
       "       'Any other comments you'd like to share or interests you'd like to express?',\n",
       "       'Last'],\n",
       "      dtype='object')"
      ]
     },
     "execution_count": 102,
     "metadata": {},
     "output_type": "execute_result"
    }
   ],
   "source": [
    "# rename field with name starting with 'Discord' to simply 'Discord'\n",
    "field_prefixes = ['Discord', 'GitHub', 'Email', 'First', 'Last'] # prefixes in field names we want to simplify\n",
    "for prefix in field_prefixes:\n",
    "    # rename any field name starting with this prefi to this prefix only\n",
    "    intake_df.rename(columns=lambda x: x if not x.startswith(prefix) else prefix, inplace=True)\n",
    "intake_df.columns"
   ]
  },
  {
   "cell_type": "markdown",
   "id": "2b171adf",
   "metadata": {},
   "source": [
    "## Merge datasets\n",
    "Create one master dataframe."
   ]
  },
  {
   "cell_type": "code",
   "execution_count": 103,
   "id": "0fe7cb84",
   "metadata": {},
   "outputs": [
    {
     "data": {
      "text/html": [
       "<div>\n",
       "<style scoped>\n",
       "    .dataframe tbody tr th:only-of-type {\n",
       "        vertical-align: middle;\n",
       "    }\n",
       "\n",
       "    .dataframe tbody tr th {\n",
       "        vertical-align: top;\n",
       "    }\n",
       "\n",
       "    .dataframe thead th {\n",
       "        text-align: right;\n",
       "    }\n",
       "</style>\n",
       "<table border=\"1\" class=\"dataframe\">\n",
       "  <thead>\n",
       "    <tr style=\"text-align: right;\">\n",
       "      <th></th>\n",
       "      <th>Counter</th>\n",
       "      <th>Campus ID</th>\n",
       "      <th>Last</th>\n",
       "      <th>First</th>\n",
       "      <th>Pronoun</th>\n",
       "      <th>Name Recording</th>\n",
       "      <th>Email</th>\n",
       "      <th>Units Taken</th>\n",
       "      <th>Plan Description</th>\n",
       "      <th>Academic Level</th>\n",
       "      <th>...</th>\n",
       "      <th>First_intake</th>\n",
       "      <th>Discord</th>\n",
       "      <th>GitHub</th>\n",
       "      <th>What are your motivations in taking this course? (You will not be judged in any way by your answers)</th>\n",
       "      <th>What year are you in?</th>\n",
       "      <th>Are you familiar with any of the following web programming languages?</th>\n",
       "      <th>Have you ever used any of the following web frameworks?</th>\n",
       "      <th>Are there any other programming languages you are comfortable with?</th>\n",
       "      <th>Any other comments you'd like to share or interests you'd like to express?</th>\n",
       "      <th>Last_intake</th>\n",
       "    </tr>\n",
       "  </thead>\n",
       "  <tbody>\n",
       "    <tr>\n",
       "      <th>6</th>\n",
       "      <td>7</td>\n",
       "      <td>N10219196</td>\n",
       "      <td>Chhabra</td>\n",
       "      <td>Anusha</td>\n",
       "      <td>NaN</td>\n",
       "      <td>Record on File</td>\n",
       "      <td>ac9144@nyu.edu</td>\n",
       "      <td>4</td>\n",
       "      <td>UA-Coll of Arts &amp; Sci-Economic</td>\n",
       "      <td>Senior</td>\n",
       "      <td>...</td>\n",
       "      <td>NaN</td>\n",
       "      <td>NaN</td>\n",
       "      <td>NaN</td>\n",
       "      <td>NaN</td>\n",
       "      <td>NaN</td>\n",
       "      <td>NaN</td>\n",
       "      <td>NaN</td>\n",
       "      <td>NaN</td>\n",
       "      <td>NaN</td>\n",
       "      <td>NaN</td>\n",
       "    </tr>\n",
       "    <tr>\n",
       "      <th>19</th>\n",
       "      <td>20</td>\n",
       "      <td>N18213542</td>\n",
       "      <td>Rentz</td>\n",
       "      <td>Adam</td>\n",
       "      <td>NaN</td>\n",
       "      <td>NaN</td>\n",
       "      <td>adr9694@nyu.edu</td>\n",
       "      <td>4</td>\n",
       "      <td>UB-Stern Schl Business-Ugrd-Bu</td>\n",
       "      <td>Junior</td>\n",
       "      <td>...</td>\n",
       "      <td>Adam</td>\n",
       "      <td>Adam Rentz</td>\n",
       "      <td>adamrentz2005</td>\n",
       "      <td>To explore whether web design is something int...</td>\n",
       "      <td>Sophomore</td>\n",
       "      <td>HTML</td>\n",
       "      <td>No - I have never used any frameworks</td>\n",
       "      <td>SQL</td>\n",
       "      <td>NaN</td>\n",
       "      <td>Rentz</td>\n",
       "    </tr>\n",
       "    <tr>\n",
       "      <th>26</th>\n",
       "      <td>27</td>\n",
       "      <td>N16791592</td>\n",
       "      <td>Zhang</td>\n",
       "      <td>Kathy</td>\n",
       "      <td>NaN</td>\n",
       "      <td>NaN</td>\n",
       "      <td>tz2557@nyu.edu</td>\n",
       "      <td>4</td>\n",
       "      <td>UE-Steinhardt Sch Cul Ed &amp;Hu-M</td>\n",
       "      <td>Junior</td>\n",
       "      <td>...</td>\n",
       "      <td>Kathy</td>\n",
       "      <td>kzhang1206</td>\n",
       "      <td>KChloee</td>\n",
       "      <td>To explore whether web design is something int...</td>\n",
       "      <td>Sophomore</td>\n",
       "      <td>HTML</td>\n",
       "      <td>No - I have never used any frameworks</td>\n",
       "      <td>None - I have never programmed before</td>\n",
       "      <td>NaN</td>\n",
       "      <td>Zhang</td>\n",
       "    </tr>\n",
       "  </tbody>\n",
       "</table>\n",
       "<p>3 rows × 24 columns</p>\n",
       "</div>"
      ],
      "text/plain": [
       "    Counter  Campus ID     Last   First Pronoun  Name Recording  \\\n",
       "6         7  N10219196  Chhabra  Anusha     NaN  Record on File   \n",
       "19       20  N18213542    Rentz    Adam     NaN             NaN   \n",
       "26       27  N16791592    Zhang   Kathy     NaN             NaN   \n",
       "\n",
       "              Email  Units Taken                Plan Description  \\\n",
       "6    ac9144@nyu.edu            4  UA-Coll of Arts & Sci-Economic   \n",
       "19  adr9694@nyu.edu            4  UB-Stern Schl Business-Ugrd-Bu   \n",
       "26   tz2557@nyu.edu            4  UE-Steinhardt Sch Cul Ed &Hu-M   \n",
       "\n",
       "   Academic Level  ... First_intake     Discord         GitHub  \\\n",
       "6          Senior  ...          NaN         NaN            NaN   \n",
       "19         Junior  ...         Adam  Adam Rentz  adamrentz2005   \n",
       "26         Junior  ...        Kathy  kzhang1206        KChloee   \n",
       "\n",
       "   What are your motivations in taking this course? (You will not be judged in any way by your answers)  \\\n",
       "6                                                 NaN                                                     \n",
       "19  To explore whether web design is something int...                                                     \n",
       "26  To explore whether web design is something int...                                                     \n",
       "\n",
       "   What year are you in?  \\\n",
       "6                    NaN   \n",
       "19             Sophomore   \n",
       "26             Sophomore   \n",
       "\n",
       "   Are you familiar with any of the following web programming languages?  \\\n",
       "6                                                 NaN                      \n",
       "19                                               HTML                      \n",
       "26                                               HTML                      \n",
       "\n",
       "   Have you ever used any of the following web frameworks?  \\\n",
       "6                                                 NaN        \n",
       "19              No - I have never used any frameworks        \n",
       "26              No - I have never used any frameworks        \n",
       "\n",
       "   Are there any other programming languages you are comfortable with?  \\\n",
       "6                                                 NaN                    \n",
       "19                                                SQL                    \n",
       "26              None - I have never programmed before                    \n",
       "\n",
       "   Any other comments you'd like to share or interests you'd like to express?  \\\n",
       "6                                                 NaN                           \n",
       "19                                                NaN                           \n",
       "26                                                NaN                           \n",
       "\n",
       "   Last_intake  \n",
       "6          NaN  \n",
       "19       Rentz  \n",
       "26       Zhang  \n",
       "\n",
       "[3 rows x 24 columns]"
      ]
     },
     "execution_count": 103,
     "metadata": {},
     "output_type": "execute_result"
    }
   ],
   "source": [
    "# join the two CSV files into a single dataframe\n",
    "df = pd.merge(roster_df, intake_df, on='Email', how='left', suffixes=(None, '_intake'))\n",
    "df.sample(3) # random sample"
   ]
  },
  {
   "cell_type": "markdown",
   "id": "34209ac5",
   "metadata": {},
   "source": [
    "Remove unnecessary columns."
   ]
  },
  {
   "cell_type": "code",
   "execution_count": 104,
   "id": "9df5cd13",
   "metadata": {},
   "outputs": [
    {
     "data": {
      "text/html": [
       "<div>\n",
       "<style scoped>\n",
       "    .dataframe tbody tr th:only-of-type {\n",
       "        vertical-align: middle;\n",
       "    }\n",
       "\n",
       "    .dataframe tbody tr th {\n",
       "        vertical-align: top;\n",
       "    }\n",
       "\n",
       "    .dataframe thead th {\n",
       "        text-align: right;\n",
       "    }\n",
       "</style>\n",
       "<table border=\"1\" class=\"dataframe\">\n",
       "  <thead>\n",
       "    <tr style=\"text-align: right;\">\n",
       "      <th></th>\n",
       "      <th>Last</th>\n",
       "      <th>First</th>\n",
       "      <th>Email</th>\n",
       "      <th>GitHub</th>\n",
       "      <th>Discord</th>\n",
       "    </tr>\n",
       "  </thead>\n",
       "  <tbody>\n",
       "    <tr>\n",
       "      <th>0</th>\n",
       "      <td>Arjarasumpun</td>\n",
       "      <td>Nelly</td>\n",
       "      <td>na3723@nyu.edu</td>\n",
       "      <td>Na3723</td>\n",
       "      <td>Na3723</td>\n",
       "    </tr>\n",
       "    <tr>\n",
       "      <th>1</th>\n",
       "      <td>Bhate</td>\n",
       "      <td>Anvi</td>\n",
       "      <td>asb9991@nyu.edu</td>\n",
       "      <td>anvibhate</td>\n",
       "      <td>anvi_51413</td>\n",
       "    </tr>\n",
       "    <tr>\n",
       "      <th>2</th>\n",
       "      <td>Bin</td>\n",
       "      <td>Ryno</td>\n",
       "      <td>kb4625@nyu.edu</td>\n",
       "      <td>ryno5556</td>\n",
       "      <td>Ryno</td>\n",
       "    </tr>\n",
       "    <tr>\n",
       "      <th>3</th>\n",
       "      <td>Bogan</td>\n",
       "      <td>Ella</td>\n",
       "      <td>etb8700@nyu.edu</td>\n",
       "      <td>ellabogan</td>\n",
       "      <td>elbo_69324</td>\n",
       "    </tr>\n",
       "    <tr>\n",
       "      <th>4</th>\n",
       "      <td>Cao</td>\n",
       "      <td>Yuna</td>\n",
       "      <td>yc6773@nyu.edu</td>\n",
       "      <td>Yuna-cao</td>\n",
       "      <td>Yuna Cao</td>\n",
       "    </tr>\n",
       "  </tbody>\n",
       "</table>\n",
       "</div>"
      ],
      "text/plain": [
       "           Last  First            Email     GitHub     Discord\n",
       "0  Arjarasumpun  Nelly   na3723@nyu.edu     Na3723      Na3723\n",
       "1         Bhate   Anvi  asb9991@nyu.edu  anvibhate  anvi_51413\n",
       "2           Bin   Ryno   kb4625@nyu.edu   ryno5556        Ryno\n",
       "3         Bogan   Ella  etb8700@nyu.edu  ellabogan  elbo_69324\n",
       "4           Cao   Yuna   yc6773@nyu.edu   Yuna-cao    Yuna Cao"
      ]
     },
     "execution_count": 104,
     "metadata": {},
     "output_type": "execute_result"
    }
   ],
   "source": [
    "# keep only a few important columns\n",
    "df = df[['Last', 'First', 'Email', 'GitHub', 'Discord', ]]\n",
    "df.head(5)"
   ]
  },
  {
   "cell_type": "markdown",
   "id": "f55a220d",
   "metadata": {},
   "source": [
    "## Save to CSV\n",
    "Save the dataframe to CSV for later use."
   ]
  },
  {
   "cell_type": "code",
   "execution_count": 105,
   "id": "05ddcdd7",
   "metadata": {},
   "outputs": [],
   "source": [
    "# save df to a CSV file\n",
    "output_path = Path(result_file).resolve()\n",
    "df.to_csv(output_path, index=False)"
   ]
  }
 ],
 "metadata": {
  "kernelspec": {
   "display_name": "channel-manager-I2yNxV5-",
   "language": "python",
   "name": "python3"
  },
  "language_info": {
   "codemirror_mode": {
    "name": "ipython",
    "version": 3
   },
   "file_extension": ".py",
   "mimetype": "text/x-python",
   "name": "python",
   "nbconvert_exporter": "python",
   "pygments_lexer": "ipython3",
   "version": "3.12.9"
  }
 },
 "nbformat": 4,
 "nbformat_minor": 5
}
