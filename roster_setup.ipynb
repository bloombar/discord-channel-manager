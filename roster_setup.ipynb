{
 "cells": [
  {
   "cell_type": "markdown",
   "id": "0dfd1b02",
   "metadata": {},
   "source": [
    "# Setup Student Roster\n",
    "For importing into Google Sheets.\n",
    "\n",
    "Merges data from the Albert roster and Google Form intake questionnaire to produce a consolidated student roster CSV file."
   ]
  },
  {
   "cell_type": "markdown",
   "id": "e3dfb7b3",
   "metadata": {},
   "source": [
    "## Import dependencies\n"
   ]
  },
  {
   "cell_type": "markdown",
   "id": "c640b9cd",
   "metadata": {},
   "source": [
    "Import code dependencies"
   ]
  },
  {
   "cell_type": "code",
   "execution_count": 116,
   "id": "74c833a0",
   "metadata": {},
   "outputs": [],
   "source": [
    "import numpy as np\n",
    "import pandas as pd\n",
    "from pathlib import Path"
   ]
  },
  {
   "cell_type": "markdown",
   "id": "20bb25ad",
   "metadata": {},
   "source": [
    "## Import data"
   ]
  },
  {
   "cell_type": "markdown",
   "id": "fd52736e",
   "metadata": {},
   "source": [
    "Set up filenames of interest."
   ]
  },
  {
   "cell_type": "code",
   "execution_count": 117,
   "id": "c2b4ebf2",
   "metadata": {},
   "outputs": [],
   "source": [
    "course_prefix = 'xx' # all file names will start with this prefix, e.g. 'wd', 'py', 'ad', 'se', etc."
   ]
  },
  {
   "cell_type": "code",
   "execution_count": 118,
   "id": "e62d1948",
   "metadata": {},
   "outputs": [],
   "source": [
    "# all relevant filenames for this course\n",
    "roster_file = f'./rosters/{course_prefix}-roster.csv' # the roster file\n",
    "SKIP_ROSTER_ROWS = 3 # number of rows in roster file to skip to get to column headings\n",
    "questionnaire_file = f'./questionnaires/{course_prefix}-intake.csv' # the intake questionnaire file\n",
    "result_file = f'./results/{course_prefix}-result.csv' # the output file we will generate"
   ]
  },
  {
   "cell_type": "markdown",
   "id": "31aa4545",
   "metadata": {},
   "source": [
    "Import the student roster from Albert."
   ]
  },
  {
   "cell_type": "code",
   "execution_count": 119,
   "id": "4ff355d9",
   "metadata": {},
   "outputs": [],
   "source": [
    "roster_df = pd.read_csv(Path(roster_file).resolve(), skiprows=SKIP_ROSTER_ROWS)"
   ]
  },
  {
   "cell_type": "markdown",
   "id": "2c59a2a4",
   "metadata": {},
   "source": [
    "Clean up student roster."
   ]
  },
  {
   "cell_type": "code",
   "execution_count": 120,
   "id": "1c97fc95",
   "metadata": {},
   "outputs": [
    {
     "data": {
      "text/plain": [
       "Index(['Counter', 'Campus ID', 'Last', 'First', 'Pronoun', 'Name Recording',\n",
       "       'Email', 'Units Taken', 'Plan Description', 'Academic Level',\n",
       "       'Student Location', 'Status', 'Status Notes'],\n",
       "      dtype='object')"
      ]
     },
     "execution_count": 120,
     "metadata": {},
     "output_type": "execute_result"
    }
   ],
   "source": [
    "# simplify some field names\n",
    "field_prefixes = ['Email', 'First', 'Last'] # prefixes in field names we want to simplify\n",
    "for prefix in field_prefixes:\n",
    "    # rename any field name starting with this prefi to this prefix only\n",
    "    roster_df.rename(columns=lambda x: x if not x.startswith(prefix) else prefix, inplace=True)\n",
    "roster_df.columns"
   ]
  },
  {
   "cell_type": "markdown",
   "id": "42c4d77e",
   "metadata": {},
   "source": [
    "Import the student intake questionnaire results."
   ]
  },
  {
   "cell_type": "code",
   "execution_count": 121,
   "id": "d4c6d381",
   "metadata": {},
   "outputs": [],
   "source": [
    "intake_df = pd.read_csv(Path(questionnaire_file).resolve())"
   ]
  },
  {
   "cell_type": "markdown",
   "id": "01f2bad0",
   "metadata": {},
   "source": [
    "Cleanup intake questionnaire data."
   ]
  },
  {
   "cell_type": "code",
   "execution_count": 122,
   "id": "0006fcc1",
   "metadata": {},
   "outputs": [
    {
     "data": {
      "text/plain": [
       "Index(['Timestamp', 'Email', 'First', 'Discord', 'GitHub',\n",
       "       'What are your motivations in taking this course? (You will not be judged in any way by your answers)',\n",
       "       'What year are you in?',\n",
       "       'What programming languages are you comfortable with?',\n",
       "       'Any other comments you'd like to share or interests you'd like to express?',\n",
       "       'Last'],\n",
       "      dtype='object')"
      ]
     },
     "execution_count": 122,
     "metadata": {},
     "output_type": "execute_result"
    }
   ],
   "source": [
    "# rename field with name starting with 'Discord' to simply 'Discord'\n",
    "field_prefixes = ['Discord', 'GitHub', 'Email', 'First', 'Last'] # prefixes in field names we want to simplify\n",
    "for prefix in field_prefixes:\n",
    "    # rename any field name starting with this prefi to this prefix only\n",
    "    intake_df.rename(columns=lambda x: x if not x.startswith(prefix) else prefix, inplace=True)\n",
    "intake_df.columns"
   ]
  },
  {
   "cell_type": "markdown",
   "id": "250bc9f1",
   "metadata": {},
   "source": [
    "Cleanup roster columns."
   ]
  },
  {
   "cell_type": "code",
   "execution_count": 123,
   "id": "09e3b1de",
   "metadata": {},
   "outputs": [
    {
     "data": {
      "text/plain": [
       "Index(['Counter', 'Campus ID', 'Last', 'First', 'Pronoun', 'Name Recording',\n",
       "       'Email', 'Units Taken', 'Plan Description', 'Academic Level',\n",
       "       'Student Location', 'Status', 'Status Notes'],\n",
       "      dtype='object')"
      ]
     },
     "execution_count": 123,
     "metadata": {},
     "output_type": "execute_result"
    }
   ],
   "source": [
    "# rename field with name starting with 'Discord' to simply 'Discord'\n",
    "field_prefixes = ['Discord', 'GitHub', 'Email', 'First', 'Last'] # prefixes in field names we want to simplify\n",
    "for prefix in field_prefixes:\n",
    "    # rename any field name starting with this prefi to this prefix only\n",
    "    roster_df.rename(columns=lambda x: x if not x.startswith(prefix) else prefix, inplace=True)\n",
    "roster_df.columns"
   ]
  },
  {
   "cell_type": "markdown",
   "id": "2b171adf",
   "metadata": {},
   "source": [
    "## Merge datasets\n",
    "Create one master dataframe."
   ]
  },
  {
   "cell_type": "code",
   "execution_count": 124,
   "id": "0fe7cb84",
   "metadata": {},
   "outputs": [
    {
     "data": {
      "text/html": [
       "<div>\n",
       "<style scoped>\n",
       "    .dataframe tbody tr th:only-of-type {\n",
       "        vertical-align: middle;\n",
       "    }\n",
       "\n",
       "    .dataframe tbody tr th {\n",
       "        vertical-align: top;\n",
       "    }\n",
       "\n",
       "    .dataframe thead th {\n",
       "        text-align: right;\n",
       "    }\n",
       "</style>\n",
       "<table border=\"1\" class=\"dataframe\">\n",
       "  <thead>\n",
       "    <tr style=\"text-align: right;\">\n",
       "      <th></th>\n",
       "      <th>Counter</th>\n",
       "      <th>Campus ID</th>\n",
       "      <th>Last</th>\n",
       "      <th>First</th>\n",
       "      <th>Pronoun</th>\n",
       "      <th>Name Recording</th>\n",
       "      <th>Email</th>\n",
       "      <th>Units Taken</th>\n",
       "      <th>Plan Description</th>\n",
       "      <th>Academic Level</th>\n",
       "      <th>...</th>\n",
       "      <th>Status Notes</th>\n",
       "      <th>Timestamp</th>\n",
       "      <th>First_intake</th>\n",
       "      <th>Discord</th>\n",
       "      <th>GitHub</th>\n",
       "      <th>What are your motivations in taking this course? (You will not be judged in any way by your answers)</th>\n",
       "      <th>What year are you in?</th>\n",
       "      <th>What programming languages are you comfortable with?</th>\n",
       "      <th>Any other comments you'd like to share or interests you'd like to express?</th>\n",
       "      <th>Last_intake</th>\n",
       "    </tr>\n",
       "  </thead>\n",
       "  <tbody>\n",
       "    <tr>\n",
       "      <th>1</th>\n",
       "      <td>4</td>\n",
       "      <td>N87654321</td>\n",
       "      <td>Doe</td>\n",
       "      <td>Jane</td>\n",
       "      <td>NaN</td>\n",
       "      <td>NaN</td>\n",
       "      <td>jdoe@myuni.edu</td>\n",
       "      <td>4</td>\n",
       "      <td>UA-Coll of Arts &amp; Sci-Psychology</td>\n",
       "      <td>Senior</td>\n",
       "      <td>...</td>\n",
       "      <td>NaN</td>\n",
       "      <td>5/20/25 14:45</td>\n",
       "      <td>Lisa</td>\n",
       "      <td>lisa_king</td>\n",
       "      <td>lisaking567</td>\n",
       "      <td>Want to build my own apps and websites</td>\n",
       "      <td>Freshman</td>\n",
       "      <td>HTML</td>\n",
       "      <td>CSS</td>\n",
       "      <td>King</td>\n",
       "    </tr>\n",
       "    <tr>\n",
       "      <th>3</th>\n",
       "      <td>6</td>\n",
       "      <td>N99887766</td>\n",
       "      <td>Patel</td>\n",
       "      <td>Samir</td>\n",
       "      <td>NaN</td>\n",
       "      <td>NaN</td>\n",
       "      <td>spatel@myuni.edu</td>\n",
       "      <td>4</td>\n",
       "      <td>UB-Stern Schl Business-Ugrd-Finance</td>\n",
       "      <td>Junior</td>\n",
       "      <td>...</td>\n",
       "      <td>NaN</td>\n",
       "      <td>5/21/25 15:20</td>\n",
       "      <td>Chloe</td>\n",
       "      <td>chloem2345</td>\n",
       "      <td>chloemartin</td>\n",
       "      <td>To meet new people and collaborate on projects</td>\n",
       "      <td>Sophomore</td>\n",
       "      <td>Python</td>\n",
       "      <td>R</td>\n",
       "      <td>Martin</td>\n",
       "    </tr>\n",
       "    <tr>\n",
       "      <th>2</th>\n",
       "      <td>5</td>\n",
       "      <td>N11223344</td>\n",
       "      <td>Lee</td>\n",
       "      <td>Alex</td>\n",
       "      <td>NaN</td>\n",
       "      <td>NaN</td>\n",
       "      <td>alee@myuni.edu</td>\n",
       "      <td>2</td>\n",
       "      <td>UA-Coll of Arts &amp; Sci-Mathematics</td>\n",
       "      <td>Freshman</td>\n",
       "      <td>...</td>\n",
       "      <td>NaN</td>\n",
       "      <td>5/21/25 08:30</td>\n",
       "      <td>Raj</td>\n",
       "      <td>rajtech</td>\n",
       "      <td>rajpatel9101</td>\n",
       "      <td>Curious about how technology works</td>\n",
       "      <td>Junior</td>\n",
       "      <td>Python</td>\n",
       "      <td>C++</td>\n",
       "      <td>Patel</td>\n",
       "    </tr>\n",
       "  </tbody>\n",
       "</table>\n",
       "<p>3 rows × 22 columns</p>\n",
       "</div>"
      ],
      "text/plain": [
       "   Counter  Campus ID   Last  First  Pronoun  Name Recording  \\\n",
       "1        4  N87654321    Doe   Jane      NaN             NaN   \n",
       "3        6  N99887766  Patel  Samir      NaN             NaN   \n",
       "2        5  N11223344    Lee   Alex      NaN             NaN   \n",
       "\n",
       "              Email  Units Taken                     Plan Description  \\\n",
       "1    jdoe@myuni.edu            4     UA-Coll of Arts & Sci-Psychology   \n",
       "3  spatel@myuni.edu            4  UB-Stern Schl Business-Ugrd-Finance   \n",
       "2    alee@myuni.edu            2    UA-Coll of Arts & Sci-Mathematics   \n",
       "\n",
       "  Academic Level  ...  Status Notes      Timestamp  First_intake     Discord  \\\n",
       "1         Senior  ...           NaN  5/20/25 14:45          Lisa   lisa_king   \n",
       "3         Junior  ...           NaN  5/21/25 15:20         Chloe  chloem2345   \n",
       "2       Freshman  ...           NaN  5/21/25 08:30           Raj     rajtech   \n",
       "\n",
       "         GitHub  \\\n",
       "1   lisaking567   \n",
       "3   chloemartin   \n",
       "2  rajpatel9101   \n",
       "\n",
       "  What are your motivations in taking this course? (You will not be judged in any way by your answers)  \\\n",
       "1             Want to build my own apps and websites                                                     \n",
       "3     To meet new people and collaborate on projects                                                     \n",
       "2                 Curious about how technology works                                                     \n",
       "\n",
       "  What year are you in? What programming languages are you comfortable with?  \\\n",
       "1              Freshman                                               HTML     \n",
       "3             Sophomore                                             Python     \n",
       "2                Junior                                             Python     \n",
       "\n",
       "  Any other comments you'd like to share or interests you'd like to express?  \\\n",
       "1                                                CSS                           \n",
       "3                                                  R                           \n",
       "2                                                C++                           \n",
       "\n",
       "  Last_intake  \n",
       "1        King  \n",
       "3      Martin  \n",
       "2       Patel  \n",
       "\n",
       "[3 rows x 22 columns]"
      ]
     },
     "execution_count": 124,
     "metadata": {},
     "output_type": "execute_result"
    }
   ],
   "source": [
    "# join the two CSV files into a single dataframe\n",
    "df = pd.merge(roster_df, intake_df, on='Email', how='left', suffixes=(None, '_intake'))\n",
    "df.sample(3) # random sample"
   ]
  },
  {
   "cell_type": "markdown",
   "id": "34209ac5",
   "metadata": {},
   "source": [
    "Remove unnecessary columns."
   ]
  },
  {
   "cell_type": "code",
   "execution_count": 125,
   "id": "9df5cd13",
   "metadata": {},
   "outputs": [
    {
     "data": {
      "text/html": [
       "<div>\n",
       "<style scoped>\n",
       "    .dataframe tbody tr th:only-of-type {\n",
       "        vertical-align: middle;\n",
       "    }\n",
       "\n",
       "    .dataframe tbody tr th {\n",
       "        vertical-align: top;\n",
       "    }\n",
       "\n",
       "    .dataframe thead th {\n",
       "        text-align: right;\n",
       "    }\n",
       "</style>\n",
       "<table border=\"1\" class=\"dataframe\">\n",
       "  <thead>\n",
       "    <tr style=\"text-align: right;\">\n",
       "      <th></th>\n",
       "      <th>Last</th>\n",
       "      <th>First</th>\n",
       "      <th>Email</th>\n",
       "      <th>GitHub</th>\n",
       "      <th>Discord</th>\n",
       "    </tr>\n",
       "  </thead>\n",
       "  <tbody>\n",
       "    <tr>\n",
       "      <th>0</th>\n",
       "      <td>Smith</td>\n",
       "      <td>John</td>\n",
       "      <td>jsmith@myuni.edu</td>\n",
       "      <td>mbrown2025</td>\n",
       "      <td>mikeb123</td>\n",
       "    </tr>\n",
       "    <tr>\n",
       "      <th>1</th>\n",
       "      <td>Doe</td>\n",
       "      <td>Jane</td>\n",
       "      <td>jdoe@myuni.edu</td>\n",
       "      <td>lisaking567</td>\n",
       "      <td>lisa_king</td>\n",
       "    </tr>\n",
       "    <tr>\n",
       "      <th>2</th>\n",
       "      <td>Lee</td>\n",
       "      <td>Alex</td>\n",
       "      <td>alee@myuni.edu</td>\n",
       "      <td>rajpatel9101</td>\n",
       "      <td>rajtech</td>\n",
       "    </tr>\n",
       "    <tr>\n",
       "      <th>3</th>\n",
       "      <td>Patel</td>\n",
       "      <td>Samir</td>\n",
       "      <td>spatel@myuni.edu</td>\n",
       "      <td>chloemartin</td>\n",
       "      <td>chloem2345</td>\n",
       "    </tr>\n",
       "    <tr>\n",
       "      <th>4</th>\n",
       "      <td>Kim</td>\n",
       "      <td>Sarah</td>\n",
       "      <td>skim@myuni.edu</td>\n",
       "      <td>davidpark</td>\n",
       "      <td>davidp6789</td>\n",
       "    </tr>\n",
       "  </tbody>\n",
       "</table>\n",
       "</div>"
      ],
      "text/plain": [
       "    Last  First             Email        GitHub     Discord\n",
       "0  Smith   John  jsmith@myuni.edu    mbrown2025    mikeb123\n",
       "1    Doe   Jane    jdoe@myuni.edu   lisaking567   lisa_king\n",
       "2    Lee   Alex    alee@myuni.edu  rajpatel9101     rajtech\n",
       "3  Patel  Samir  spatel@myuni.edu   chloemartin  chloem2345\n",
       "4    Kim  Sarah    skim@myuni.edu     davidpark  davidp6789"
      ]
     },
     "execution_count": 125,
     "metadata": {},
     "output_type": "execute_result"
    }
   ],
   "source": [
    "# keep only a few important columns\n",
    "df = df[['Last', 'First', 'Email', 'GitHub', 'Discord', ]]\n",
    "df.head(5)"
   ]
  },
  {
   "cell_type": "markdown",
   "id": "c20e2793",
   "metadata": {},
   "source": [
    "Remove rows that do not have an email address."
   ]
  },
  {
   "cell_type": "code",
   "execution_count": 126,
   "id": "1910a65a",
   "metadata": {},
   "outputs": [],
   "source": [
    "# remove rows that have no email address\n",
    "df = df[df['Email'].notna()]\n",
    "# remove rows that do not have a valid email address\n",
    "df = df[df['Email'].str.contains('@')]"
   ]
  },
  {
   "cell_type": "markdown",
   "id": "f55a220d",
   "metadata": {},
   "source": [
    "## Save to CSV\n",
    "Save the dataframe to CSV for later use."
   ]
  },
  {
   "cell_type": "code",
   "execution_count": 127,
   "id": "05ddcdd7",
   "metadata": {},
   "outputs": [],
   "source": [
    "# save df to a CSV file\n",
    "output_path = Path(result_file).resolve()\n",
    "df.to_csv(output_path, index=False)"
   ]
  }
 ],
 "metadata": {
  "kernelspec": {
   "display_name": "channel-manager-I2yNxV5-",
   "language": "python",
   "name": "python3"
  },
  "language_info": {
   "codemirror_mode": {
    "name": "ipython",
    "version": 3
   },
   "file_extension": ".py",
   "mimetype": "text/x-python",
   "name": "python",
   "nbconvert_exporter": "python",
   "pygments_lexer": "ipython3",
   "version": "3.12.9"
  }
 },
 "nbformat": 4,
 "nbformat_minor": 5
}
